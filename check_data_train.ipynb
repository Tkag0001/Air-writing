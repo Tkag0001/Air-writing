{
 "cells": [
  {
   "cell_type": "code",
   "execution_count": 1,
   "id": "initial_id",
   "metadata": {
    "collapsed": true,
    "ExecuteTime": {
     "end_time": "2024-04-04T01:11:57.057837400Z",
     "start_time": "2024-04-04T01:11:56.230605100Z"
    }
   },
   "outputs": [],
   "source": [
    "import pandas as pd"
   ]
  },
  {
   "cell_type": "code",
   "execution_count": 2,
   "outputs": [],
   "source": [
    "columns = [\"point %s\" %i for i in range(42)]"
   ],
   "metadata": {
    "collapsed": false,
    "ExecuteTime": {
     "end_time": "2024-04-04T01:11:57.071791700Z",
     "start_time": "2024-04-04T01:11:57.054849200Z"
    }
   },
   "id": "1f91c755b4f0f1da"
  },
  {
   "cell_type": "code",
   "execution_count": 3,
   "outputs": [
    {
     "data": {
      "text/plain": "['label',\n 'point 0',\n 'point 1',\n 'point 2',\n 'point 3',\n 'point 4',\n 'point 5',\n 'point 6',\n 'point 7',\n 'point 8',\n 'point 9',\n 'point 10',\n 'point 11',\n 'point 12',\n 'point 13',\n 'point 14',\n 'point 15',\n 'point 16',\n 'point 17',\n 'point 18',\n 'point 19',\n 'point 20',\n 'point 21',\n 'point 22',\n 'point 23',\n 'point 24',\n 'point 25',\n 'point 26',\n 'point 27',\n 'point 28',\n 'point 29',\n 'point 30',\n 'point 31',\n 'point 32',\n 'point 33',\n 'point 34',\n 'point 35',\n 'point 36',\n 'point 37',\n 'point 38',\n 'point 39',\n 'point 40',\n 'point 41']"
     },
     "execution_count": 3,
     "metadata": {},
     "output_type": "execute_result"
    }
   ],
   "source": [
    "columns.insert(0,'label')\n",
    "columns"
   ],
   "metadata": {
    "collapsed": false,
    "ExecuteTime": {
     "end_time": "2024-04-04T01:11:57.085744100Z",
     "start_time": "2024-04-04T01:11:57.069797600Z"
    }
   },
   "id": "398a1cafcd58f937"
  },
  {
   "cell_type": "code",
   "execution_count": 35,
   "outputs": [
    {
     "data": {
      "text/plain": "0    2600\n1    2600\n2    2600\n3    2600\n4    2600\nName: label, dtype: int64"
     },
     "execution_count": 35,
     "metadata": {},
     "output_type": "execute_result"
    }
   ],
   "source": [
    "df = pd.read_csv('model/keypoint_classifier/keypoint_v3.csv', index_col=False)\n",
    "df.columns = columns\n",
    "df['label'].value_counts()\n"
   ],
   "metadata": {
    "collapsed": false,
    "ExecuteTime": {
     "end_time": "2024-04-04T01:40:15.769885100Z",
     "start_time": "2024-04-04T01:40:15.538660500Z"
    }
   },
   "id": "ed931b00a240a979"
  },
  {
   "cell_type": "code",
   "execution_count": 26,
   "outputs": [
    {
     "data": {
      "text/plain": "0    2600\n1    2600\n4    2600\n3    2343\n2    2223\nName: label, dtype: int64"
     },
     "execution_count": 26,
     "metadata": {},
     "output_type": "execute_result"
    }
   ],
   "source": [
    "df['label'].value_counts()"
   ],
   "metadata": {
    "collapsed": false,
    "ExecuteTime": {
     "end_time": "2024-04-04T01:33:57.885925Z",
     "start_time": "2024-04-04T01:33:57.857026400Z"
    }
   },
   "id": "b90e8d3b68d4c41f"
  },
  {
   "cell_type": "code",
   "execution_count": null,
   "outputs": [],
   "source": [],
   "metadata": {
    "collapsed": false,
    "ExecuteTime": {
     "end_time": "2024-04-04T01:11:57.982866400Z",
     "start_time": "2024-04-04T01:11:57.978878700Z"
    }
   },
   "id": "b311e226629395fd"
  }
 ],
 "metadata": {
  "kernelspec": {
   "display_name": "Python 3",
   "language": "python",
   "name": "python3"
  },
  "language_info": {
   "codemirror_mode": {
    "name": "ipython",
    "version": 2
   },
   "file_extension": ".py",
   "mimetype": "text/x-python",
   "name": "python",
   "nbconvert_exporter": "python",
   "pygments_lexer": "ipython2",
   "version": "2.7.6"
  }
 },
 "nbformat": 4,
 "nbformat_minor": 5
}
