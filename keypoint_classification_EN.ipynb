{
 "cells": [
  {
   "cell_type": "code",
   "execution_count": null,
   "metadata": {
    "id": "igMyGnjE9hEp"
   },
   "outputs": [],
   "source": [
    "import csv\n",
    "\n",
    "import numpy as np\n",
    "import tensorflow as tf\n",
    "from sklearn.model_selection import train_test_split\n",
    "import matplotlib.pyplot as plt\n",
    "\n",
    "RANDOM_SEED = 42"
   ]
  },
  {
   "cell_type": "markdown",
   "metadata": {
    "id": "t2HDvhIu9hEr"
   },
   "source": [
    "# Specify each path"
   ]
  },
  {
   "cell_type": "code",
   "execution_count": null,
   "metadata": {
    "id": "9NvZP2Zn9hEy"
   },
   "outputs": [],
   "source": [
    "dataset = 'model/keypoint_classifier/keypoint_v4.csv'\n",
    "model_save_path = 'model/keypoint_classifier/keypoint_classifier_v4.hdf5'\n",
    "tflite_save_path = 'model/keypoint_classifier/keypoint_classifier_v4.tflite'"
   ]
  },
  {
   "cell_type": "markdown",
   "metadata": {
    "id": "s5oMH7x19hEz"
   },
   "source": [
    "# Set number of classes"
   ]
  },
  {
   "cell_type": "code",
   "execution_count": null,
   "metadata": {
    "id": "du4kodXL9hEz"
   },
   "outputs": [],
   "source": [
    "NUM_CLASSES = 5"
   ]
  },
  {
   "cell_type": "markdown",
   "metadata": {
    "id": "XjnL0uso9hEz"
   },
   "source": [
    "# Dataset reading"
   ]
  },
  {
   "cell_type": "code",
   "execution_count": null,
   "metadata": {
    "id": "QT5ZqtEz9hE0"
   },
   "outputs": [],
   "source": [
    "X_dataset = np.loadtxt(dataset, delimiter=',', dtype='float32', usecols=list(range(1, (21 * 2) + 1)))"
   ]
  },
  {
   "cell_type": "code",
   "execution_count": null,
   "metadata": {
    "id": "QmoKFsp49hE0"
   },
   "outputs": [],
   "source": [
    "y_dataset = np.loadtxt(dataset, delimiter=',', dtype='int32', usecols=(0))"
   ]
  },
  {
   "cell_type": "code",
   "execution_count": null,
   "metadata": {
    "id": "xQU7JTZ_9hE0"
   },
   "outputs": [],
   "source": [
    "X_train, X_test, y_train, y_test = train_test_split(X_dataset, y_dataset, train_size=0.75, stratify= y_dataset)"
   ]
  },
  {
   "cell_type": "code",
   "source": [
    "print(np.unique(y_dataset, return_counts = True))"
   ],
   "metadata": {
    "colab": {
     "base_uri": "https://localhost:8080/"
    },
    "id": "nH6gxYc-KFYw",
    "outputId": "7336e9b2-b888-4440-d722-3709cd4f5a35"
   },
   "execution_count": null,
   "outputs": [
    {
     "output_type": "stream",
     "name": "stdout",
     "text": [
      "(array([0, 1, 2, 3, 4], dtype=int32), array([2601, 2600, 2600, 2600, 2600]))\n"
     ]
    }
   ]
  },
  {
   "cell_type": "markdown",
   "metadata": {
    "id": "mxK_lETT9hE0"
   },
   "source": [
    "# Model building"
   ]
  },
  {
   "cell_type": "code",
   "execution_count": null,
   "metadata": {
    "id": "vHBmUf1t9hE1"
   },
   "outputs": [],
   "source": [
    "model = tf.keras.models.Sequential([\n",
    "    tf.keras.layers.Input((21 * 2, )),\n",
    "    tf.keras.layers.Dropout(0.2),\n",
    "    tf.keras.layers.Dense(20, activation='relu'),\n",
    "    tf.keras.layers.Dropout(0.4),\n",
    "    tf.keras.layers.Dense(10, activation='relu'),\n",
    "    tf.keras.layers.Dense(NUM_CLASSES, activation='softmax')\n",
    "])"
   ]
  },
  {
   "cell_type": "code",
   "execution_count": null,
   "metadata": {
    "colab": {
     "base_uri": "https://localhost:8080/"
    },
    "id": "ypqky9tc9hE1",
    "outputId": "7b5343c1-e1b6-4609-de42-2e1d52616206"
   },
   "outputs": [
    {
     "output_type": "stream",
     "name": "stdout",
     "text": [
      "Model: \"sequential_1\"\n",
      "_________________________________________________________________\n",
      " Layer (type)                Output Shape              Param #   \n",
      "=================================================================\n",
      " dropout_2 (Dropout)         (None, 42)                0         \n",
      "                                                                 \n",
      " dense_3 (Dense)             (None, 20)                860       \n",
      "                                                                 \n",
      " dropout_3 (Dropout)         (None, 20)                0         \n",
      "                                                                 \n",
      " dense_4 (Dense)             (None, 10)                210       \n",
      "                                                                 \n",
      " dense_5 (Dense)             (None, 5)                 55        \n",
      "                                                                 \n",
      "=================================================================\n",
      "Total params: 1125 (4.39 KB)\n",
      "Trainable params: 1125 (4.39 KB)\n",
      "Non-trainable params: 0 (0.00 Byte)\n",
      "_________________________________________________________________\n"
     ]
    }
   ],
   "source": [
    "model.summary()  # tf.keras.utils.plot_model(model, show_shapes=True)"
   ]
  },
  {
   "cell_type": "code",
   "execution_count": null,
   "metadata": {
    "id": "MbMjOflQ9hE1"
   },
   "outputs": [],
   "source": [
    "# Model checkpoint callback\n",
    "cp_callback = tf.keras.callbacks.ModelCheckpoint(\n",
    "    model_save_path, verbose=1, save_weights_only=False)\n",
    "# Callback for early stopping\n",
    "es_callback = tf.keras.callbacks.EarlyStopping(patience=20, verbose=1)"
   ]
  },
  {
   "cell_type": "code",
   "execution_count": null,
   "metadata": {
    "id": "c3Dac0M_9hE2"
   },
   "outputs": [],
   "source": [
    "# Model compilation\n",
    "model.compile(\n",
    "    optimizer='adam',\n",
    "    loss='sparse_categorical_crossentropy',\n",
    "    metrics=['accuracy']\n",
    ")"
   ]
  },
  {
   "cell_type": "markdown",
   "metadata": {
    "id": "7XI0j1Iu9hE2"
   },
   "source": [
    "# Model training"
   ]
  },
  {
   "cell_type": "code",
   "execution_count": null,
   "metadata": {
    "colab": {
     "base_uri": "https://localhost:8080/"
    },
    "id": "WirBl-JE9hE3",
    "outputId": "cbfd81ff-cb60-42ca-b435-7ad84e26a864",
    "scrolled": true
   },
   "outputs": [
    {
     "output_type": "stream",
     "name": "stdout",
     "text": [
      "Epoch 1/1000\n",
      "69/77 [=========================>....] - ETA: 0s - loss: 1.6138 - accuracy: 0.2429\n",
      "Epoch 1: saving model to /content/mydrive/MyDrive/Dự án/keypoint_classifier_v4.hdf5\n",
      "77/77 [==============================] - 1s 6ms/step - loss: 1.6070 - accuracy: 0.2474 - val_loss: 1.4920 - val_accuracy: 0.4632\n",
      "Epoch 2/1000\n",
      "54/77 [====================>.........] - ETA: 0s - loss: 1.4788 - accuracy: 0.3639"
     ]
    },
    {
     "output_type": "stream",
     "name": "stderr",
     "text": [
      "/usr/local/lib/python3.10/dist-packages/keras/src/engine/training.py:3103: UserWarning: You are saving your model as an HDF5 file via `model.save()`. This file format is considered legacy. We recommend using instead the native Keras format, e.g. `model.save('my_model.keras')`.\n",
      "  saving_api.save_model(\n"
     ]
    },
    {
     "output_type": "stream",
     "name": "stdout",
     "text": [
      "\b\b\b\b\b\b\b\b\b\b\b\b\b\b\b\b\b\b\b\b\b\b\b\b\b\b\b\b\b\b\b\b\b\b\b\b\b\b\b\b\b\b\b\b\b\b\b\b\b\b\b\b\b\b\b\b\b\b\b\b\b\b\b\b\b\b\b\b\b\b\b\b\b\b\b\b\b\b\b\b\b\b\r71/77 [==========================>...] - ETA: 0s - loss: 1.4605 - accuracy: 0.3763\n",
      "Epoch 2: saving model to /content/mydrive/MyDrive/Dự án/keypoint_classifier_v4.hdf5\n",
      "77/77 [==============================] - 0s 4ms/step - loss: 1.4547 - accuracy: 0.3801 - val_loss: 1.2518 - val_accuracy: 0.6035\n",
      "Epoch 3/1000\n",
      "70/77 [==========================>...] - ETA: 0s - loss: 1.2788 - accuracy: 0.4701\n",
      "Epoch 3: saving model to /content/mydrive/MyDrive/Dự án/keypoint_classifier_v4.hdf5\n",
      "77/77 [==============================] - 0s 4ms/step - loss: 1.2699 - accuracy: 0.4751 - val_loss: 0.9773 - val_accuracy: 0.7533\n",
      "Epoch 4/1000\n",
      "73/77 [===========================>..] - ETA: 0s - loss: 1.1154 - accuracy: 0.5580\n",
      "Epoch 4: saving model to /content/mydrive/MyDrive/Dự án/keypoint_classifier_v4.hdf5\n",
      "77/77 [==============================] - 0s 4ms/step - loss: 1.1122 - accuracy: 0.5599 - val_loss: 0.7829 - val_accuracy: 0.8059\n",
      "Epoch 5/1000\n",
      "72/77 [===========================>..] - ETA: 0s - loss: 1.0015 - accuracy: 0.6188\n",
      "Epoch 5: saving model to /content/mydrive/MyDrive/Dự án/keypoint_classifier_v4.hdf5\n",
      "77/77 [==============================] - 0s 4ms/step - loss: 0.9990 - accuracy: 0.6214 - val_loss: 0.6428 - val_accuracy: 0.8382\n",
      "Epoch 6/1000\n",
      "66/77 [========================>.....] - ETA: 0s - loss: 0.9342 - accuracy: 0.6463\n",
      "Epoch 6: saving model to /content/mydrive/MyDrive/Dự án/keypoint_classifier_v4.hdf5\n",
      "77/77 [==============================] - 0s 5ms/step - loss: 0.9283 - accuracy: 0.6465 - val_loss: 0.5661 - val_accuracy: 0.8628\n",
      "Epoch 7/1000\n",
      "73/77 [===========================>..] - ETA: 0s - loss: 0.8768 - accuracy: 0.6767\n",
      "Epoch 7: saving model to /content/mydrive/MyDrive/Dự án/keypoint_classifier_v4.hdf5\n",
      "77/77 [==============================] - 0s 4ms/step - loss: 0.8753 - accuracy: 0.6775 - val_loss: 0.5094 - val_accuracy: 0.8936\n",
      "Epoch 8/1000\n",
      "69/77 [=========================>....] - ETA: 0s - loss: 0.8394 - accuracy: 0.6944\n",
      "Epoch 8: saving model to /content/mydrive/MyDrive/Dự án/keypoint_classifier_v4.hdf5\n",
      "77/77 [==============================] - 0s 4ms/step - loss: 0.8337 - accuracy: 0.6952 - val_loss: 0.4756 - val_accuracy: 0.9093\n",
      "Epoch 9/1000\n",
      "66/77 [========================>.....] - ETA: 0s - loss: 0.8151 - accuracy: 0.7011\n",
      "Epoch 9: saving model to /content/mydrive/MyDrive/Dự án/keypoint_classifier_v4.hdf5\n",
      "77/77 [==============================] - 0s 5ms/step - loss: 0.8140 - accuracy: 0.7019 - val_loss: 0.4370 - val_accuracy: 0.9351\n",
      "Epoch 10/1000\n",
      "72/77 [===========================>..] - ETA: 0s - loss: 0.7824 - accuracy: 0.7066\n",
      "Epoch 10: saving model to /content/mydrive/MyDrive/Dự án/keypoint_classifier_v4.hdf5\n",
      "77/77 [==============================] - 0s 4ms/step - loss: 0.7791 - accuracy: 0.7085 - val_loss: 0.4014 - val_accuracy: 0.9363\n",
      "Epoch 11/1000\n",
      "70/77 [==========================>...] - ETA: 0s - loss: 0.7470 - accuracy: 0.7298\n",
      "Epoch 11: saving model to /content/mydrive/MyDrive/Dự án/keypoint_classifier_v4.hdf5\n",
      "77/77 [==============================] - 0s 4ms/step - loss: 0.7501 - accuracy: 0.7281 - val_loss: 0.3638 - val_accuracy: 0.9486\n",
      "Epoch 12/1000\n",
      "69/77 [=========================>....] - ETA: 0s - loss: 0.7465 - accuracy: 0.7285\n",
      "Epoch 12: saving model to /content/mydrive/MyDrive/Dự án/keypoint_classifier_v4.hdf5\n",
      "77/77 [==============================] - 0s 4ms/step - loss: 0.7464 - accuracy: 0.7293 - val_loss: 0.3685 - val_accuracy: 0.9459\n",
      "Epoch 13/1000\n",
      "71/77 [==========================>...] - ETA: 0s - loss: 0.7249 - accuracy: 0.7458\n",
      "Epoch 13: saving model to /content/mydrive/MyDrive/Dự án/keypoint_classifier_v4.hdf5\n",
      "77/77 [==============================] - 0s 4ms/step - loss: 0.7212 - accuracy: 0.7465 - val_loss: 0.3425 - val_accuracy: 0.9520\n",
      "Epoch 14/1000\n",
      "71/77 [==========================>...] - ETA: 0s - loss: 0.7005 - accuracy: 0.7556\n",
      "Epoch 14: saving model to /content/mydrive/MyDrive/Dự án/keypoint_classifier_v4.hdf5\n",
      "77/77 [==============================] - 0s 4ms/step - loss: 0.6992 - accuracy: 0.7562 - val_loss: 0.3335 - val_accuracy: 0.9548\n",
      "Epoch 15/1000\n",
      "69/77 [=========================>....] - ETA: 0s - loss: 0.6862 - accuracy: 0.7593\n",
      "Epoch 15: saving model to /content/mydrive/MyDrive/Dự án/keypoint_classifier_v4.hdf5\n",
      "77/77 [==============================] - 0s 4ms/step - loss: 0.6858 - accuracy: 0.7579 - val_loss: 0.3095 - val_accuracy: 0.9572\n",
      "Epoch 16/1000\n",
      "70/77 [==========================>...] - ETA: 0s - loss: 0.6668 - accuracy: 0.7660\n",
      "Epoch 16: saving model to /content/mydrive/MyDrive/Dự án/keypoint_classifier_v4.hdf5\n",
      "77/77 [==============================] - 0s 4ms/step - loss: 0.6689 - accuracy: 0.7655 - val_loss: 0.3017 - val_accuracy: 0.9551\n",
      "Epoch 17/1000\n",
      "73/77 [===========================>..] - ETA: 0s - loss: 0.6908 - accuracy: 0.7587\n",
      "Epoch 17: saving model to /content/mydrive/MyDrive/Dự án/keypoint_classifier_v4.hdf5\n",
      "77/77 [==============================] - 0s 4ms/step - loss: 0.6905 - accuracy: 0.7579 - val_loss: 0.3133 - val_accuracy: 0.9569\n",
      "Epoch 18/1000\n",
      "70/77 [==========================>...] - ETA: 0s - loss: 0.6594 - accuracy: 0.7711\n",
      "Epoch 18: saving model to /content/mydrive/MyDrive/Dự án/keypoint_classifier_v4.hdf5\n",
      "77/77 [==============================] - 0s 4ms/step - loss: 0.6600 - accuracy: 0.7723 - val_loss: 0.3003 - val_accuracy: 0.9579\n",
      "Epoch 19/1000\n",
      "66/77 [========================>.....] - ETA: 0s - loss: 0.6501 - accuracy: 0.7723\n",
      "Epoch 19: saving model to /content/mydrive/MyDrive/Dự án/keypoint_classifier_v4.hdf5\n",
      "77/77 [==============================] - 1s 7ms/step - loss: 0.6545 - accuracy: 0.7709 - val_loss: 0.3063 - val_accuracy: 0.9496\n",
      "Epoch 20/1000\n",
      "75/77 [============================>.] - ETA: 0s - loss: 0.6496 - accuracy: 0.7742\n",
      "Epoch 20: saving model to /content/mydrive/MyDrive/Dự án/keypoint_classifier_v4.hdf5\n",
      "77/77 [==============================] - 1s 7ms/step - loss: 0.6486 - accuracy: 0.7744 - val_loss: 0.2949 - val_accuracy: 0.9539\n",
      "Epoch 21/1000\n",
      "76/77 [============================>.] - ETA: 0s - loss: 0.6295 - accuracy: 0.7791\n",
      "Epoch 21: saving model to /content/mydrive/MyDrive/Dự án/keypoint_classifier_v4.hdf5\n",
      "77/77 [==============================] - 1s 7ms/step - loss: 0.6299 - accuracy: 0.7789 - val_loss: 0.2857 - val_accuracy: 0.9622\n",
      "Epoch 22/1000\n",
      "76/77 [============================>.] - ETA: 0s - loss: 0.6433 - accuracy: 0.7794\n",
      "Epoch 22: saving model to /content/mydrive/MyDrive/Dự án/keypoint_classifier_v4.hdf5\n",
      "77/77 [==============================] - 0s 6ms/step - loss: 0.6436 - accuracy: 0.7793 - val_loss: 0.2844 - val_accuracy: 0.9572\n",
      "Epoch 23/1000\n",
      "72/77 [===========================>..] - ETA: 0s - loss: 0.6365 - accuracy: 0.7786\n",
      "Epoch 23: saving model to /content/mydrive/MyDrive/Dự án/keypoint_classifier_v4.hdf5\n",
      "77/77 [==============================] - 1s 7ms/step - loss: 0.6393 - accuracy: 0.7773 - val_loss: 0.2775 - val_accuracy: 0.9566\n",
      "Epoch 24/1000\n",
      "67/77 [=========================>....] - ETA: 0s - loss: 0.6218 - accuracy: 0.7892\n",
      "Epoch 24: saving model to /content/mydrive/MyDrive/Dự án/keypoint_classifier_v4.hdf5\n",
      "77/77 [==============================] - 0s 5ms/step - loss: 0.6182 - accuracy: 0.7893 - val_loss: 0.2770 - val_accuracy: 0.9579\n",
      "Epoch 25/1000\n",
      "70/77 [==========================>...] - ETA: 0s - loss: 0.6105 - accuracy: 0.7924\n",
      "Epoch 25: saving model to /content/mydrive/MyDrive/Dự án/keypoint_classifier_v4.hdf5\n",
      "77/77 [==============================] - 0s 4ms/step - loss: 0.6097 - accuracy: 0.7919 - val_loss: 0.2770 - val_accuracy: 0.9508\n",
      "Epoch 26/1000\n",
      "72/77 [===========================>..] - ETA: 0s - loss: 0.6120 - accuracy: 0.7857\n",
      "Epoch 26: saving model to /content/mydrive/MyDrive/Dự án/keypoint_classifier_v4.hdf5\n",
      "77/77 [==============================] - 0s 4ms/step - loss: 0.6118 - accuracy: 0.7858 - val_loss: 0.2632 - val_accuracy: 0.9603\n",
      "Epoch 27/1000\n",
      "68/77 [=========================>....] - ETA: 0s - loss: 0.6040 - accuracy: 0.7933\n",
      "Epoch 27: saving model to /content/mydrive/MyDrive/Dự án/keypoint_classifier_v4.hdf5\n",
      "77/77 [==============================] - 0s 4ms/step - loss: 0.5996 - accuracy: 0.7934 - val_loss: 0.2621 - val_accuracy: 0.9554\n",
      "Epoch 28/1000\n",
      "71/77 [==========================>...] - ETA: 0s - loss: 0.6114 - accuracy: 0.7877\n",
      "Epoch 28: saving model to /content/mydrive/MyDrive/Dự án/keypoint_classifier_v4.hdf5\n",
      "77/77 [==============================] - 0s 4ms/step - loss: 0.6089 - accuracy: 0.7891 - val_loss: 0.2788 - val_accuracy: 0.9483\n",
      "Epoch 29/1000\n",
      "71/77 [==========================>...] - ETA: 0s - loss: 0.5923 - accuracy: 0.7969\n",
      "Epoch 29: saving model to /content/mydrive/MyDrive/Dự án/keypoint_classifier_v4.hdf5\n",
      "77/77 [==============================] - 0s 4ms/step - loss: 0.5957 - accuracy: 0.7957 - val_loss: 0.2733 - val_accuracy: 0.9508\n",
      "Epoch 30/1000\n",
      "63/77 [=======================>......] - ETA: 0s - loss: 0.5959 - accuracy: 0.7968\n",
      "Epoch 30: saving model to /content/mydrive/MyDrive/Dự án/keypoint_classifier_v4.hdf5\n",
      "77/77 [==============================] - 0s 5ms/step - loss: 0.5899 - accuracy: 0.7989 - val_loss: 0.2728 - val_accuracy: 0.9468\n",
      "Epoch 31/1000\n",
      "69/77 [=========================>....] - ETA: 0s - loss: 0.5819 - accuracy: 0.7986\n",
      "Epoch 31: saving model to /content/mydrive/MyDrive/Dự án/keypoint_classifier_v4.hdf5\n",
      "77/77 [==============================] - 0s 5ms/step - loss: 0.5833 - accuracy: 0.7989 - val_loss: 0.2605 - val_accuracy: 0.9554\n",
      "Epoch 32/1000\n",
      "72/77 [===========================>..] - ETA: 0s - loss: 0.5850 - accuracy: 0.8011\n",
      "Epoch 32: saving model to /content/mydrive/MyDrive/Dự án/keypoint_classifier_v4.hdf5\n",
      "77/77 [==============================] - 0s 4ms/step - loss: 0.5846 - accuracy: 0.8011 - val_loss: 0.2617 - val_accuracy: 0.9551\n",
      "Epoch 33/1000\n",
      "70/77 [==========================>...] - ETA: 0s - loss: 0.5756 - accuracy: 0.8019\n",
      "Epoch 33: saving model to /content/mydrive/MyDrive/Dự án/keypoint_classifier_v4.hdf5\n",
      "77/77 [==============================] - 0s 4ms/step - loss: 0.5763 - accuracy: 0.8013 - val_loss: 0.2613 - val_accuracy: 0.9422\n",
      "Epoch 34/1000\n",
      "70/77 [==========================>...] - ETA: 0s - loss: 0.5811 - accuracy: 0.8011\n",
      "Epoch 34: saving model to /content/mydrive/MyDrive/Dự án/keypoint_classifier_v4.hdf5\n",
      "77/77 [==============================] - 0s 4ms/step - loss: 0.5747 - accuracy: 0.8037 - val_loss: 0.2528 - val_accuracy: 0.9486\n",
      "Epoch 35/1000\n",
      "68/77 [=========================>....] - ETA: 0s - loss: 0.5829 - accuracy: 0.8037\n",
      "Epoch 35: saving model to /content/mydrive/MyDrive/Dự án/keypoint_classifier_v4.hdf5\n",
      "77/77 [==============================] - 0s 5ms/step - loss: 0.5820 - accuracy: 0.8044 - val_loss: 0.2633 - val_accuracy: 0.9474\n",
      "Epoch 36/1000\n",
      "70/77 [==========================>...] - ETA: 0s - loss: 0.5835 - accuracy: 0.8016\n",
      "Epoch 36: saving model to /content/mydrive/MyDrive/Dự án/keypoint_classifier_v4.hdf5\n",
      "77/77 [==============================] - 0s 4ms/step - loss: 0.5798 - accuracy: 0.8019 - val_loss: 0.2653 - val_accuracy: 0.9434\n",
      "Epoch 37/1000\n",
      "71/77 [==========================>...] - ETA: 0s - loss: 0.5648 - accuracy: 0.8061\n",
      "Epoch 37: saving model to /content/mydrive/MyDrive/Dự án/keypoint_classifier_v4.hdf5\n",
      "77/77 [==============================] - 0s 4ms/step - loss: 0.5683 - accuracy: 0.8044 - val_loss: 0.2577 - val_accuracy: 0.9508\n",
      "Epoch 38/1000\n",
      "70/77 [==========================>...] - ETA: 0s - loss: 0.5569 - accuracy: 0.8103\n",
      "Epoch 38: saving model to /content/mydrive/MyDrive/Dự án/keypoint_classifier_v4.hdf5\n",
      "77/77 [==============================] - 0s 4ms/step - loss: 0.5543 - accuracy: 0.8115 - val_loss: 0.2579 - val_accuracy: 0.9539\n",
      "Epoch 39/1000\n",
      "61/77 [======================>.......] - ETA: 0s - loss: 0.5598 - accuracy: 0.8130\n",
      "Epoch 39: saving model to /content/mydrive/MyDrive/Dự án/keypoint_classifier_v4.hdf5\n",
      "77/77 [==============================] - 0s 5ms/step - loss: 0.5484 - accuracy: 0.8154 - val_loss: 0.2464 - val_accuracy: 0.9492\n",
      "Epoch 40/1000\n",
      "71/77 [==========================>...] - ETA: 0s - loss: 0.5587 - accuracy: 0.8127\n",
      "Epoch 40: saving model to /content/mydrive/MyDrive/Dự án/keypoint_classifier_v4.hdf5\n",
      "77/77 [==============================] - 0s 4ms/step - loss: 0.5583 - accuracy: 0.8134 - val_loss: 0.2588 - val_accuracy: 0.9465\n",
      "Epoch 41/1000\n",
      "73/77 [===========================>..] - ETA: 0s - loss: 0.5568 - accuracy: 0.8099\n",
      "Epoch 41: saving model to /content/mydrive/MyDrive/Dự án/keypoint_classifier_v4.hdf5\n",
      "77/77 [==============================] - 0s 4ms/step - loss: 0.5562 - accuracy: 0.8108 - val_loss: 0.2485 - val_accuracy: 0.9483\n",
      "Epoch 42/1000\n",
      "67/77 [=========================>....] - ETA: 0s - loss: 0.5565 - accuracy: 0.8112\n",
      "Epoch 42: saving model to /content/mydrive/MyDrive/Dự án/keypoint_classifier_v4.hdf5\n",
      "77/77 [==============================] - 0s 4ms/step - loss: 0.5529 - accuracy: 0.8126 - val_loss: 0.2492 - val_accuracy: 0.9456\n",
      "Epoch 43/1000\n",
      "74/77 [===========================>..] - ETA: 0s - loss: 0.5602 - accuracy: 0.8023\n",
      "Epoch 43: saving model to /content/mydrive/MyDrive/Dự án/keypoint_classifier_v4.hdf5\n",
      "77/77 [==============================] - 0s 4ms/step - loss: 0.5593 - accuracy: 0.8032 - val_loss: 0.2530 - val_accuracy: 0.9465\n",
      "Epoch 44/1000\n",
      "74/77 [===========================>..] - ETA: 0s - loss: 0.5611 - accuracy: 0.8160\n",
      "Epoch 44: saving model to /content/mydrive/MyDrive/Dự án/keypoint_classifier_v4.hdf5\n",
      "77/77 [==============================] - 0s 4ms/step - loss: 0.5606 - accuracy: 0.8153 - val_loss: 0.2488 - val_accuracy: 0.9548\n",
      "Epoch 45/1000\n",
      "71/77 [==========================>...] - ETA: 0s - loss: 0.5411 - accuracy: 0.8127\n",
      "Epoch 45: saving model to /content/mydrive/MyDrive/Dự án/keypoint_classifier_v4.hdf5\n",
      "77/77 [==============================] - 0s 5ms/step - loss: 0.5387 - accuracy: 0.8136 - val_loss: 0.2539 - val_accuracy: 0.9434\n",
      "Epoch 46/1000\n",
      "74/77 [===========================>..] - ETA: 0s - loss: 0.5444 - accuracy: 0.8186\n",
      "Epoch 46: saving model to /content/mydrive/MyDrive/Dự án/keypoint_classifier_v4.hdf5\n",
      "77/77 [==============================] - 0s 4ms/step - loss: 0.5443 - accuracy: 0.8182 - val_loss: 0.2493 - val_accuracy: 0.9468\n",
      "Epoch 47/1000\n",
      "72/77 [===========================>..] - ETA: 0s - loss: 0.5328 - accuracy: 0.8278\n",
      "Epoch 47: saving model to /content/mydrive/MyDrive/Dự án/keypoint_classifier_v4.hdf5\n",
      "77/77 [==============================] - 0s 4ms/step - loss: 0.5337 - accuracy: 0.8277 - val_loss: 0.2527 - val_accuracy: 0.9428\n",
      "Epoch 48/1000\n",
      "71/77 [==========================>...] - ETA: 0s - loss: 0.5553 - accuracy: 0.8113\n",
      "Epoch 48: saving model to /content/mydrive/MyDrive/Dự án/keypoint_classifier_v4.hdf5\n",
      "77/77 [==============================] - 0s 4ms/step - loss: 0.5532 - accuracy: 0.8113 - val_loss: 0.2584 - val_accuracy: 0.9416\n",
      "Epoch 49/1000\n",
      "73/77 [===========================>..] - ETA: 0s - loss: 0.5310 - accuracy: 0.8207\n",
      "Epoch 49: saving model to /content/mydrive/MyDrive/Dự án/keypoint_classifier_v4.hdf5\n",
      "77/77 [==============================] - 0s 4ms/step - loss: 0.5325 - accuracy: 0.8213 - val_loss: 0.2643 - val_accuracy: 0.9388\n",
      "Epoch 50/1000\n",
      "73/77 [===========================>..] - ETA: 0s - loss: 0.5462 - accuracy: 0.8115\n",
      "Epoch 50: saving model to /content/mydrive/MyDrive/Dự án/keypoint_classifier_v4.hdf5\n",
      "77/77 [==============================] - 0s 4ms/step - loss: 0.5483 - accuracy: 0.8115 - val_loss: 0.2570 - val_accuracy: 0.9459\n",
      "Epoch 51/1000\n",
      "71/77 [==========================>...] - ETA: 0s - loss: 0.5300 - accuracy: 0.8162\n",
      "Epoch 51: saving model to /content/mydrive/MyDrive/Dự án/keypoint_classifier_v4.hdf5\n",
      "77/77 [==============================] - 0s 4ms/step - loss: 0.5342 - accuracy: 0.8151 - val_loss: 0.2430 - val_accuracy: 0.9496\n",
      "Epoch 52/1000\n",
      "69/77 [=========================>....] - ETA: 0s - loss: 0.5316 - accuracy: 0.8229\n",
      "Epoch 52: saving model to /content/mydrive/MyDrive/Dự án/keypoint_classifier_v4.hdf5\n",
      "77/77 [==============================] - 0s 4ms/step - loss: 0.5317 - accuracy: 0.8230 - val_loss: 0.2685 - val_accuracy: 0.9302\n",
      "Epoch 53/1000\n",
      "74/77 [===========================>..] - ETA: 0s - loss: 0.5287 - accuracy: 0.8219\n",
      "Epoch 53: saving model to /content/mydrive/MyDrive/Dự án/keypoint_classifier_v4.hdf5\n",
      "77/77 [==============================] - 0s 6ms/step - loss: 0.5310 - accuracy: 0.8219 - val_loss: 0.2571 - val_accuracy: 0.9443\n",
      "Epoch 54/1000\n",
      "66/77 [========================>.....] - ETA: 0s - loss: 0.5296 - accuracy: 0.8235\n",
      "Epoch 54: saving model to /content/mydrive/MyDrive/Dự án/keypoint_classifier_v4.hdf5\n",
      "77/77 [==============================] - 0s 6ms/step - loss: 0.5284 - accuracy: 0.8237 - val_loss: 0.2367 - val_accuracy: 0.9496\n",
      "Epoch 55/1000\n",
      "77/77 [==============================] - ETA: 0s - loss: 0.5281 - accuracy: 0.8212\n",
      "Epoch 55: saving model to /content/mydrive/MyDrive/Dự án/keypoint_classifier_v4.hdf5\n",
      "77/77 [==============================] - 0s 6ms/step - loss: 0.5281 - accuracy: 0.8212 - val_loss: 0.2496 - val_accuracy: 0.9452\n",
      "Epoch 56/1000\n",
      "65/77 [========================>.....] - ETA: 0s - loss: 0.5246 - accuracy: 0.8251\n",
      "Epoch 56: saving model to /content/mydrive/MyDrive/Dự án/keypoint_classifier_v4.hdf5\n",
      "77/77 [==============================] - 0s 6ms/step - loss: 0.5249 - accuracy: 0.8239 - val_loss: 0.2432 - val_accuracy: 0.9496\n",
      "Epoch 57/1000\n",
      "65/77 [========================>.....] - ETA: 0s - loss: 0.5330 - accuracy: 0.8192\n",
      "Epoch 57: saving model to /content/mydrive/MyDrive/Dự án/keypoint_classifier_v4.hdf5\n",
      "77/77 [==============================] - 0s 6ms/step - loss: 0.5350 - accuracy: 0.8200 - val_loss: 0.2650 - val_accuracy: 0.9369\n",
      "Epoch 58/1000\n",
      "76/77 [============================>.] - ETA: 0s - loss: 0.5338 - accuracy: 0.8200\n",
      "Epoch 58: saving model to /content/mydrive/MyDrive/Dự án/keypoint_classifier_v4.hdf5\n",
      "77/77 [==============================] - 0s 6ms/step - loss: 0.5340 - accuracy: 0.8202 - val_loss: 0.2508 - val_accuracy: 0.9449\n",
      "Epoch 59/1000\n",
      "63/77 [=======================>......] - ETA: 0s - loss: 0.5309 - accuracy: 0.8178\n",
      "Epoch 59: saving model to /content/mydrive/MyDrive/Dự án/keypoint_classifier_v4.hdf5\n",
      "77/77 [==============================] - 0s 5ms/step - loss: 0.5269 - accuracy: 0.8167 - val_loss: 0.2537 - val_accuracy: 0.9394\n",
      "Epoch 60/1000\n",
      "73/77 [===========================>..] - ETA: 0s - loss: 0.5319 - accuracy: 0.8207\n",
      "Epoch 60: saving model to /content/mydrive/MyDrive/Dự án/keypoint_classifier_v4.hdf5\n",
      "77/77 [==============================] - 0s 4ms/step - loss: 0.5325 - accuracy: 0.8209 - val_loss: 0.2528 - val_accuracy: 0.9403\n",
      "Epoch 61/1000\n",
      "68/77 [=========================>....] - ETA: 0s - loss: 0.5155 - accuracy: 0.8236\n",
      "Epoch 61: saving model to /content/mydrive/MyDrive/Dự án/keypoint_classifier_v4.hdf5\n",
      "77/77 [==============================] - 0s 5ms/step - loss: 0.5177 - accuracy: 0.8228 - val_loss: 0.2525 - val_accuracy: 0.9443\n",
      "Epoch 62/1000\n",
      "73/77 [===========================>..] - ETA: 0s - loss: 0.5146 - accuracy: 0.8330\n",
      "Epoch 62: saving model to /content/mydrive/MyDrive/Dự án/keypoint_classifier_v4.hdf5\n",
      "77/77 [==============================] - 0s 4ms/step - loss: 0.5164 - accuracy: 0.8321 - val_loss: 0.2623 - val_accuracy: 0.9385\n",
      "Epoch 63/1000\n",
      "69/77 [=========================>....] - ETA: 0s - loss: 0.5218 - accuracy: 0.8192\n",
      "Epoch 63: saving model to /content/mydrive/MyDrive/Dự án/keypoint_classifier_v4.hdf5\n",
      "77/77 [==============================] - 0s 5ms/step - loss: 0.5217 - accuracy: 0.8201 - val_loss: 0.2458 - val_accuracy: 0.9416\n",
      "Epoch 64/1000\n",
      "69/77 [=========================>....] - ETA: 0s - loss: 0.5022 - accuracy: 0.8296\n",
      "Epoch 64: saving model to /content/mydrive/MyDrive/Dự án/keypoint_classifier_v4.hdf5\n",
      "77/77 [==============================] - 0s 4ms/step - loss: 0.5024 - accuracy: 0.8302 - val_loss: 0.2440 - val_accuracy: 0.9474\n",
      "Epoch 65/1000\n",
      "71/77 [==========================>...] - ETA: 0s - loss: 0.5216 - accuracy: 0.8245\n",
      "Epoch 65: saving model to /content/mydrive/MyDrive/Dự án/keypoint_classifier_v4.hdf5\n",
      "77/77 [==============================] - 0s 4ms/step - loss: 0.5213 - accuracy: 0.8238 - val_loss: 0.2484 - val_accuracy: 0.9412\n",
      "Epoch 66/1000\n",
      "72/77 [===========================>..] - ETA: 0s - loss: 0.5175 - accuracy: 0.8256\n",
      "Epoch 66: saving model to /content/mydrive/MyDrive/Dự án/keypoint_classifier_v4.hdf5\n",
      "77/77 [==============================] - 0s 4ms/step - loss: 0.5189 - accuracy: 0.8265 - val_loss: 0.2442 - val_accuracy: 0.9452\n",
      "Epoch 67/1000\n",
      "69/77 [=========================>....] - ETA: 0s - loss: 0.5034 - accuracy: 0.8311\n",
      "Epoch 67: saving model to /content/mydrive/MyDrive/Dự án/keypoint_classifier_v4.hdf5\n",
      "77/77 [==============================] - 0s 5ms/step - loss: 0.5031 - accuracy: 0.8299 - val_loss: 0.2393 - val_accuracy: 0.9449\n",
      "Epoch 68/1000\n",
      "67/77 [=========================>....] - ETA: 0s - loss: 0.5183 - accuracy: 0.8294\n",
      "Epoch 68: saving model to /content/mydrive/MyDrive/Dự án/keypoint_classifier_v4.hdf5\n",
      "77/77 [==============================] - 0s 5ms/step - loss: 0.5170 - accuracy: 0.8298 - val_loss: 0.2407 - val_accuracy: 0.9437\n",
      "Epoch 69/1000\n",
      "71/77 [==========================>...] - ETA: 0s - loss: 0.5141 - accuracy: 0.8288\n",
      "Epoch 69: saving model to /content/mydrive/MyDrive/Dự án/keypoint_classifier_v4.hdf5\n",
      "77/77 [==============================] - 0s 5ms/step - loss: 0.5169 - accuracy: 0.8274 - val_loss: 0.2501 - val_accuracy: 0.9419\n",
      "Epoch 70/1000\n",
      "68/77 [=========================>....] - ETA: 0s - loss: 0.5206 - accuracy: 0.8265\n",
      "Epoch 70: saving model to /content/mydrive/MyDrive/Dự án/keypoint_classifier_v4.hdf5\n",
      "77/77 [==============================] - 0s 5ms/step - loss: 0.5213 - accuracy: 0.8267 - val_loss: 0.2662 - val_accuracy: 0.9379\n",
      "Epoch 71/1000\n",
      "73/77 [===========================>..] - ETA: 0s - loss: 0.5133 - accuracy: 0.8299\n",
      "Epoch 71: saving model to /content/mydrive/MyDrive/Dự án/keypoint_classifier_v4.hdf5\n",
      "77/77 [==============================] - 0s 4ms/step - loss: 0.5113 - accuracy: 0.8293 - val_loss: 0.2434 - val_accuracy: 0.9419\n",
      "Epoch 72/1000\n",
      "73/77 [===========================>..] - ETA: 0s - loss: 0.4940 - accuracy: 0.8374\n",
      "Epoch 72: saving model to /content/mydrive/MyDrive/Dự án/keypoint_classifier_v4.hdf5\n",
      "77/77 [==============================] - 0s 4ms/step - loss: 0.4955 - accuracy: 0.8368 - val_loss: 0.2500 - val_accuracy: 0.9373\n",
      "Epoch 73/1000\n",
      "69/77 [=========================>....] - ETA: 0s - loss: 0.5078 - accuracy: 0.8267\n",
      "Epoch 73: saving model to /content/mydrive/MyDrive/Dự án/keypoint_classifier_v4.hdf5\n",
      "77/77 [==============================] - 0s 5ms/step - loss: 0.5061 - accuracy: 0.8281 - val_loss: 0.2379 - val_accuracy: 0.9452\n",
      "Epoch 74/1000\n",
      "71/77 [==========================>...] - ETA: 0s - loss: 0.5166 - accuracy: 0.8349\n",
      "Epoch 74: saving model to /content/mydrive/MyDrive/Dự án/keypoint_classifier_v4.hdf5\n",
      "77/77 [==============================] - 0s 4ms/step - loss: 0.5194 - accuracy: 0.8335 - val_loss: 0.2433 - val_accuracy: 0.9437\n",
      "Epoch 74: early stopping\n"
     ]
    }
   ],
   "source": [
    "history = model.fit(\n",
    "    X_train,\n",
    "    y_train,\n",
    "    epochs=1000,\n",
    "    batch_size=128,\n",
    "    validation_data=(X_test, y_test),\n",
    "    callbacks=[cp_callback, es_callback]\n",
    ")"
   ]
  },
  {
   "cell_type": "code",
   "source": [
    "print(history.history.keys())\n",
    "plt.figure(figsize=(15, 8))\n",
    "plt.subplot(1,2,1)\n",
    "plt.plot(history.history['accuracy'])\n",
    "plt.plot(history.history['val_accuracy'])\n",
    "plt.title('model accuracy')\n",
    "plt.ylabel('accuracy')\n",
    "plt.xlabel('epoch')\n",
    "plt.legend(['train', 'validation'], loc='upper left')\n",
    "# plt.show()\n",
    "# \"Loss\"\n",
    "plt.subplot(1,2,2)\n",
    "plt.plot(history.history['loss'])\n",
    "plt.plot(history.history['val_loss'])\n",
    "plt.title('model loss')\n",
    "plt.ylabel('loss')\n",
    "plt.xlabel('epoch')\n",
    "plt.legend(['train', 'validation'], loc='upper left')\n",
    "plt.show()"
   ],
   "metadata": {
    "colab": {
     "base_uri": "https://localhost:8080/",
     "height": 735
    },
    "id": "6qxhNSmMBBJ-",
    "outputId": "0c7576d7-3868-4b37-e068-764edf9c8318"
   },
   "execution_count": null,
   "outputs": [
    {
     "output_type": "stream",
     "name": "stdout",
     "text": [
      "dict_keys(['loss', 'accuracy', 'val_loss', 'val_accuracy'])\n"
     ]
    },
    {
     "output_type": "display_data",
     "data": {
      "text/plain": [
       "<Figure size 1500x800 with 2 Axes>"
      ],
      "image/png": "[encoded data removed]"
     },
     "metadata": {}
    }
   ]
  },
  {
   "cell_type": "code",
   "execution_count": null,
   "metadata": {
    "colab": {
     "base_uri": "https://localhost:8080/"
    },
    "id": "pxvb2Y299hE3",
    "outputId": "859ed5a4-257f-4a1a-c904-e09a6b815641"
   },
   "outputs": [
    {
     "output_type": "stream",
     "name": "stdout",
     "text": [
      "26/26 [==============================] - 0s 2ms/step - loss: 0.2433 - accuracy: 0.9437\n"
     ]
    }
   ],
   "source": [
    "# Model evaluation\n",
    "val_loss, val_acc = model.evaluate(X_test, y_test, batch_size=128)"
   ]
  },
  {
   "cell_type": "code",
   "execution_count": null,
   "metadata": {
    "id": "RBkmDeUW9hE4"
   },
   "outputs": [],
   "source": [
    "# Loading the saved model\n",
    "model = tf.keras.models.load_model(model_save_path)"
   ]
  },
  {
   "cell_type": "code",
   "execution_count": null,
   "metadata": {
    "colab": {
     "base_uri": "https://localhost:8080/"
    },
    "id": "tFz9Tb0I9hE4",
    "outputId": "71de312b-cb36-4319-d1d3-4f3bf052b52d"
   },
   "outputs": [
    {
     "output_type": "stream",
     "name": "stdout",
     "text": [
      "1/1 [==============================] - 0s 47ms/step\n",
      "[0.93274254 0.02095267 0.02910394 0.00515648 0.01204429]\n",
      "0\n"
     ]
    }
   ],
   "source": [
    "# Inference test\n",
    "predict_result = model.predict(np.array([X_test[0]]))\n",
    "print(np.squeeze(predict_result))\n",
    "print(np.argmax(np.squeeze(predict_result)))"
   ]
  },
  {
   "cell_type": "code",
   "source": [],
   "metadata": {
    "id": "8cqCIe7W_JyE"
   },
   "execution_count": null,
   "outputs": []
  },
  {
   "cell_type": "markdown",
   "metadata": {
    "id": "S3U4yNWx9hE4"
   },
   "source": [
    "# Confusion matrix"
   ]
  },
  {
   "cell_type": "code",
   "execution_count": null,
   "metadata": {
    "colab": {
     "base_uri": "https://localhost:8080/",
     "height": 765
    },
    "id": "AP1V6SCk9hE5",
    "outputId": "f1912470-d58f-4e8e-e7f3-0b846fda4ce1"
   },
   "outputs": [
    {
     "output_type": "stream",
     "name": "stdout",
     "text": [
      "102/102 [==============================] - 0s 1ms/step\n"
     ]
    },
    {
     "output_type": "display_data",
     "data": {
      "text/plain": [
       "<Figure size 700x600 with 2 Axes>"
      ],
      "image/png": "[encoded data removed]"
     },
     "metadata": {}
    },
    {
     "output_type": "stream",
     "name": "stdout",
     "text": [
      "Classification Report\n",
      "              precision    recall  f1-score   support\n",
      "\n",
      "           0       0.97      0.99      0.98       651\n",
      "           1       0.99      0.94      0.97       650\n",
      "           2       0.97      0.86      0.91       650\n",
      "           3       0.99      0.94      0.96       650\n",
      "           4       0.82      0.98      0.90       650\n",
      "\n",
      "    accuracy                           0.94      3251\n",
      "   macro avg       0.95      0.94      0.94      3251\n",
      "weighted avg       0.95      0.94      0.94      3251\n"
     ]
    }
   ],
   "source": [
    "import pandas as pd\n",
    "import seaborn as sns\n",
    "import matplotlib.pyplot as plt\n",
    "from sklearn.metrics import confusion_matrix, classification_report\n",
    "\n",
    "def print_confusion_matrix(y_true, y_pred, report=True):\n",
    "    labels = sorted(list(set(y_true)))\n",
    "    cmx_data = confusion_matrix(y_true, y_pred, labels=labels)\n",
    "\n",
    "    df_cmx = pd.DataFrame(cmx_data, index=labels, columns=labels)\n",
    "\n",
    "    fig, ax = plt.subplots(figsize=(7, 6))\n",
    "    sns.heatmap(df_cmx, annot=True, fmt='g' ,square=False)\n",
    "    ax.set_ylim(len(set(y_true)), 0)\n",
    "    plt.show()\n",
    "\n",
    "    if report:\n",
    "        print('Classification Report')\n",
    "        print(classification_report(y_test, y_pred))\n",
    "\n",
    "Y_pred = model.predict(X_test)\n",
    "y_pred = np.argmax(Y_pred, axis=1)\n",
    "\n",
    "print_confusion_matrix(y_test, y_pred)"
   ]
  },
  {
   "cell_type": "code",
   "source": [
    "df = pd.read_csv(dataset)\n",
    "df"
   ],
   "metadata": {
    "colab": {
     "base_uri": "https://localhost:8080/",
     "height": 444
    },
    "id": "A5CY12GV75b0",
    "outputId": "6a0e7c1b-9d80-4a39-f3e9-2b177ae0f8e8"
   },
   "execution_count": null,
   "outputs": [
    {
     "output_type": "execute_result",
     "data": {
      "text/plain": [
       "       0  0.0  0.0.1  -0.17094017094017094  -0.11965811965811966  \\\n",
       "0      0  0.0    0.0             -0.155963             -0.018349   \n",
       "1      0  0.0    0.0             -0.181102             -0.070866   \n",
       "2      0  0.0    0.0             -0.211864             -0.025424   \n",
       "3      0  0.0    0.0             -0.149254             -0.134328   \n",
       "4      0  0.0    0.0             -0.124031             -0.139535   \n",
       "...   ..  ...    ...                   ...                   ...   \n",
       "12995  2  0.0    0.0             -0.388158              0.032895   \n",
       "12996  2  0.0    0.0             -0.388158              0.026316   \n",
       "12997  2  0.0    0.0             -0.385621              0.032680   \n",
       "12998  2  0.0    0.0             -0.396104              0.038961   \n",
       "12999  2  0.0    0.0             -0.385621              0.026144   \n",
       "\n",
       "       -0.2564102564102564  -0.29914529914529914  -0.1623931623931624  \\\n",
       "0                -0.311927             -0.128440            -0.330275   \n",
       "1                -0.307087             -0.212598            -0.251969   \n",
       "2                -0.389831             -0.152542            -0.355932   \n",
       "3                -0.223881             -0.328358            -0.126866   \n",
       "4                -0.170543             -0.333333            -0.046512   \n",
       "...                    ...                   ...                  ...   \n",
       "12995            -0.710526             -0.026316            -0.934211   \n",
       "12996            -0.703947             -0.032895            -0.927632   \n",
       "12997            -0.699346             -0.026144            -0.921569   \n",
       "12998            -0.707792             -0.025974            -0.922078   \n",
       "12999            -0.692810             -0.039216            -0.908497   \n",
       "\n",
       "       -0.4358974358974359  -0.008547008547008548  ...  0.4017094017094017  \\\n",
       "0                -0.302752              -0.266055  ...           -0.550459   \n",
       "1                -0.362205              -0.118110  ...           -0.110236   \n",
       "2                -0.313559              -0.237288  ...           -0.372881   \n",
       "3                -0.462687               0.007463  ...            0.223881   \n",
       "4                -0.434109               0.100775  ...            0.341085   \n",
       "...                    ...                    ...  ...                 ...   \n",
       "12995            -0.072368              -1.000000  ...           -0.355263   \n",
       "12996            -0.072368              -1.000000  ...           -0.348684   \n",
       "12997            -0.071895              -1.000000  ...           -0.352941   \n",
       "12998            -0.064935              -1.000000  ...           -0.357143   \n",
       "12999            -0.078431              -1.000000  ...           -0.352941   \n",
       "\n",
       "       -0.9145299145299145  0.27350427350427353  -0.37606837606837606  \\\n",
       "0                -1.000000            -0.027523             -0.568807   \n",
       "1                -0.976378             0.062992             -0.472441   \n",
       "2                -1.000000            -0.050847             -0.508475   \n",
       "3                -0.917910             0.186567             -0.417910   \n",
       "4                -0.922481             0.263566             -0.395349   \n",
       "...                    ...                  ...                   ...   \n",
       "12995            -0.236842            -0.164474             -0.539474   \n",
       "12996            -0.230263            -0.151316             -0.546053   \n",
       "12997            -0.222222            -0.163399             -0.535948   \n",
       "12998            -0.220779            -0.162338             -0.525974   \n",
       "12999            -0.228758            -0.156863             -0.542484   \n",
       "\n",
       "       0.3504273504273504  -0.5384615384615384.1  0.39316239316239315  \\\n",
       "0               -0.165138              -0.743119            -0.247706   \n",
       "1                0.047244              -0.637795             0.023622   \n",
       "2               -0.118644              -0.677966            -0.169492   \n",
       "3                0.223881              -0.567164             0.253731   \n",
       "4                0.333333              -0.550388             0.364341   \n",
       "...                   ...                    ...                  ...   \n",
       "12995           -0.342105              -0.217105            -0.256579   \n",
       "12996           -0.335526              -0.223684            -0.250000   \n",
       "12997           -0.339869              -0.215686            -0.261438   \n",
       "12998           -0.344156              -0.207792            -0.259740   \n",
       "12999           -0.339869              -0.222222            -0.254902   \n",
       "\n",
       "       -0.6410256410256411  0.42735042735042733  -0.7350427350427351  \n",
       "0                -0.844037            -0.330275            -0.926606  \n",
       "1                -0.748031             0.007874            -0.842520  \n",
       "2                -0.779661            -0.211864            -0.872881  \n",
       "3                -0.664179             0.276119            -0.753731  \n",
       "4                -0.651163             0.387597            -0.744186  \n",
       "...                    ...                  ...                  ...  \n",
       "12995            -0.138158            -0.177632            -0.210526  \n",
       "12996            -0.138158            -0.171053            -0.210526  \n",
       "12997            -0.130719            -0.176471            -0.202614  \n",
       "12998            -0.123377            -0.181818            -0.194805  \n",
       "12999            -0.137255            -0.176471            -0.209150  \n",
       "\n",
       "[13000 rows x 43 columns]"
      ],
      "text/html": [
       "\n",
       "  <div id=\"df-e3d28ff5-9d2e-45d9-a6e4-2aa5f7da03cd\" class=\"colab-df-container\">\n",
       "    <div>\n",
       "<style scoped>\n",
       "    .dataframe tbody tr th:only-of-type {\n",
       "        vertical-align: middle;\n",
       "    }\n",
       "\n",
       "    .dataframe tbody tr th {\n",
       "        vertical-align: top;\n",
       "    }\n",
       "\n",
       "    .dataframe thead th {\n",
       "        text-align: right;\n",
       "    }\n",
       "</style>\n",
       "<table border=\"1\" class=\"dataframe\">\n",
       "  <thead>\n",
       "    <tr style=\"text-align: right;\">\n",
       "      <th></th>\n",
       "      <th>0</th>\n",
       "      <th>0.0</th>\n",
       "      <th>0.0.1</th>\n",
       "      <th>-0.17094017094017094</th>\n",
       "      <th>-0.11965811965811966</th>\n",
       "      <th>-0.2564102564102564</th>\n",
       "      <th>-0.29914529914529914</th>\n",
       "      <th>-0.1623931623931624</th>\n",
       "      <th>-0.4358974358974359</th>\n",
       "      <th>-0.008547008547008548</th>\n",
       "      <th>...</th>\n",
       "      <th>0.4017094017094017</th>\n",
       "      <th>-0.9145299145299145</th>\n",
       "      <th>0.27350427350427353</th>\n",
       "      <th>-0.37606837606837606</th>\n",
       "      <th>0.3504273504273504</th>\n",
       "      <th>-0.5384615384615384.1</th>\n",
       "      <th>0.39316239316239315</th>\n",
       "      <th>-0.6410256410256411</th>\n",
       "      <th>0.42735042735042733</th>\n",
       "      <th>-0.7350427350427351</th>\n",
       "    </tr>\n",
       "  </thead>\n",
       "  <tbody>\n",
       "    <tr>\n",
       "      <th>0</th>\n",
       "      <td>0</td>\n",
       "      <td>0.0</td>\n",
       "      <td>0.0</td>\n",
       "      <td>-0.155963</td>\n",
       "      <td>-0.018349</td>\n",
       "      <td>-0.311927</td>\n",
       "      <td>-0.128440</td>\n",
       "      <td>-0.330275</td>\n",
       "      <td>-0.302752</td>\n",
       "      <td>-0.266055</td>\n",
       "      <td>...</td>\n",
       "      <td>-0.550459</td>\n",
       "      <td>-1.000000</td>\n",
       "      <td>-0.027523</td>\n",
       "      <td>-0.568807</td>\n",
       "      <td>-0.165138</td>\n",
       "      <td>-0.743119</td>\n",
       "      <td>-0.247706</td>\n",
       "      <td>-0.844037</td>\n",
       "      <td>-0.330275</td>\n",
       "      <td>-0.926606</td>\n",
       "    </tr>\n",
       "    <tr>\n",
       "      <th>1</th>\n",
       "      <td>0</td>\n",
       "      <td>0.0</td>\n",
       "      <td>0.0</td>\n",
       "      <td>-0.181102</td>\n",
       "      <td>-0.070866</td>\n",
       "      <td>-0.307087</td>\n",
       "      <td>-0.212598</td>\n",
       "      <td>-0.251969</td>\n",
       "      <td>-0.362205</td>\n",
       "      <td>-0.118110</td>\n",
       "      <td>...</td>\n",
       "      <td>-0.110236</td>\n",
       "      <td>-0.976378</td>\n",
       "      <td>0.062992</td>\n",
       "      <td>-0.472441</td>\n",
       "      <td>0.047244</td>\n",
       "      <td>-0.637795</td>\n",
       "      <td>0.023622</td>\n",
       "      <td>-0.748031</td>\n",
       "      <td>0.007874</td>\n",
       "      <td>-0.842520</td>\n",
       "    </tr>\n",
       "    <tr>\n",
       "      <th>2</th>\n",
       "      <td>0</td>\n",
       "      <td>0.0</td>\n",
       "      <td>0.0</td>\n",
       "      <td>-0.211864</td>\n",
       "      <td>-0.025424</td>\n",
       "      <td>-0.389831</td>\n",
       "      <td>-0.152542</td>\n",
       "      <td>-0.355932</td>\n",
       "      <td>-0.313559</td>\n",
       "      <td>-0.237288</td>\n",
       "      <td>...</td>\n",
       "      <td>-0.372881</td>\n",
       "      <td>-1.000000</td>\n",
       "      <td>-0.050847</td>\n",
       "      <td>-0.508475</td>\n",
       "      <td>-0.118644</td>\n",
       "      <td>-0.677966</td>\n",
       "      <td>-0.169492</td>\n",
       "      <td>-0.779661</td>\n",
       "      <td>-0.211864</td>\n",
       "      <td>-0.872881</td>\n",
       "    </tr>\n",
       "    <tr>\n",
       "      <th>3</th>\n",
       "      <td>0</td>\n",
       "      <td>0.0</td>\n",
       "      <td>0.0</td>\n",
       "      <td>-0.149254</td>\n",
       "      <td>-0.134328</td>\n",
       "      <td>-0.223881</td>\n",
       "      <td>-0.328358</td>\n",
       "      <td>-0.126866</td>\n",
       "      <td>-0.462687</td>\n",
       "      <td>0.007463</td>\n",
       "      <td>...</td>\n",
       "      <td>0.223881</td>\n",
       "      <td>-0.917910</td>\n",
       "      <td>0.186567</td>\n",
       "      <td>-0.417910</td>\n",
       "      <td>0.223881</td>\n",
       "      <td>-0.567164</td>\n",
       "      <td>0.253731</td>\n",
       "      <td>-0.664179</td>\n",
       "      <td>0.276119</td>\n",
       "      <td>-0.753731</td>\n",
       "    </tr>\n",
       "    <tr>\n",
       "      <th>4</th>\n",
       "      <td>0</td>\n",
       "      <td>0.0</td>\n",
       "      <td>0.0</td>\n",
       "      <td>-0.124031</td>\n",
       "      <td>-0.139535</td>\n",
       "      <td>-0.170543</td>\n",
       "      <td>-0.333333</td>\n",
       "      <td>-0.046512</td>\n",
       "      <td>-0.434109</td>\n",
       "      <td>0.100775</td>\n",
       "      <td>...</td>\n",
       "      <td>0.341085</td>\n",
       "      <td>-0.922481</td>\n",
       "      <td>0.263566</td>\n",
       "      <td>-0.395349</td>\n",
       "      <td>0.333333</td>\n",
       "      <td>-0.550388</td>\n",
       "      <td>0.364341</td>\n",
       "      <td>-0.651163</td>\n",
       "      <td>0.387597</td>\n",
       "      <td>-0.744186</td>\n",
       "    </tr>\n",
       "    <tr>\n",
       "      <th>...</th>\n",
       "      <td>...</td>\n",
       "      <td>...</td>\n",
       "      <td>...</td>\n",
       "      <td>...</td>\n",
       "      <td>...</td>\n",
       "      <td>...</td>\n",
       "      <td>...</td>\n",
       "      <td>...</td>\n",
       "      <td>...</td>\n",
       "      <td>...</td>\n",
       "      <td>...</td>\n",
       "      <td>...</td>\n",
       "      <td>...</td>\n",
       "      <td>...</td>\n",
       "      <td>...</td>\n",
       "      <td>...</td>\n",
       "      <td>...</td>\n",
       "      <td>...</td>\n",
       "      <td>...</td>\n",
       "      <td>...</td>\n",
       "      <td>...</td>\n",
       "    </tr>\n",
       "    <tr>\n",
       "      <th>12995</th>\n",
       "      <td>2</td>\n",
       "      <td>0.0</td>\n",
       "      <td>0.0</td>\n",
       "      <td>-0.388158</td>\n",
       "      <td>0.032895</td>\n",
       "      <td>-0.710526</td>\n",
       "      <td>-0.026316</td>\n",
       "      <td>-0.934211</td>\n",
       "      <td>-0.072368</td>\n",
       "      <td>-1.000000</td>\n",
       "      <td>...</td>\n",
       "      <td>-0.355263</td>\n",
       "      <td>-0.236842</td>\n",
       "      <td>-0.164474</td>\n",
       "      <td>-0.539474</td>\n",
       "      <td>-0.342105</td>\n",
       "      <td>-0.217105</td>\n",
       "      <td>-0.256579</td>\n",
       "      <td>-0.138158</td>\n",
       "      <td>-0.177632</td>\n",
       "      <td>-0.210526</td>\n",
       "    </tr>\n",
       "    <tr>\n",
       "      <th>12996</th>\n",
       "      <td>2</td>\n",
       "      <td>0.0</td>\n",
       "      <td>0.0</td>\n",
       "      <td>-0.388158</td>\n",
       "      <td>0.026316</td>\n",
       "      <td>-0.703947</td>\n",
       "      <td>-0.032895</td>\n",
       "      <td>-0.927632</td>\n",
       "      <td>-0.072368</td>\n",
       "      <td>-1.000000</td>\n",
       "      <td>...</td>\n",
       "      <td>-0.348684</td>\n",
       "      <td>-0.230263</td>\n",
       "      <td>-0.151316</td>\n",
       "      <td>-0.546053</td>\n",
       "      <td>-0.335526</td>\n",
       "      <td>-0.223684</td>\n",
       "      <td>-0.250000</td>\n",
       "      <td>-0.138158</td>\n",
       "      <td>-0.171053</td>\n",
       "      <td>-0.210526</td>\n",
       "    </tr>\n",
       "    <tr>\n",
       "      <th>12997</th>\n",
       "      <td>2</td>\n",
       "      <td>0.0</td>\n",
       "      <td>0.0</td>\n",
       "      <td>-0.385621</td>\n",
       "      <td>0.032680</td>\n",
       "      <td>-0.699346</td>\n",
       "      <td>-0.026144</td>\n",
       "      <td>-0.921569</td>\n",
       "      <td>-0.071895</td>\n",
       "      <td>-1.000000</td>\n",
       "      <td>...</td>\n",
       "      <td>-0.352941</td>\n",
       "      <td>-0.222222</td>\n",
       "      <td>-0.163399</td>\n",
       "      <td>-0.535948</td>\n",
       "      <td>-0.339869</td>\n",
       "      <td>-0.215686</td>\n",
       "      <td>-0.261438</td>\n",
       "      <td>-0.130719</td>\n",
       "      <td>-0.176471</td>\n",
       "      <td>-0.202614</td>\n",
       "    </tr>\n",
       "    <tr>\n",
       "      <th>12998</th>\n",
       "      <td>2</td>\n",
       "      <td>0.0</td>\n",
       "      <td>0.0</td>\n",
       "      <td>-0.396104</td>\n",
       "      <td>0.038961</td>\n",
       "      <td>-0.707792</td>\n",
       "      <td>-0.025974</td>\n",
       "      <td>-0.922078</td>\n",
       "      <td>-0.064935</td>\n",
       "      <td>-1.000000</td>\n",
       "      <td>...</td>\n",
       "      <td>-0.357143</td>\n",
       "      <td>-0.220779</td>\n",
       "      <td>-0.162338</td>\n",
       "      <td>-0.525974</td>\n",
       "      <td>-0.344156</td>\n",
       "      <td>-0.207792</td>\n",
       "      <td>-0.259740</td>\n",
       "      <td>-0.123377</td>\n",
       "      <td>-0.181818</td>\n",
       "      <td>-0.194805</td>\n",
       "    </tr>\n",
       "    <tr>\n",
       "      <th>12999</th>\n",
       "      <td>2</td>\n",
       "      <td>0.0</td>\n",
       "      <td>0.0</td>\n",
       "      <td>-0.385621</td>\n",
       "      <td>0.026144</td>\n",
       "      <td>-0.692810</td>\n",
       "      <td>-0.039216</td>\n",
       "      <td>-0.908497</td>\n",
       "      <td>-0.078431</td>\n",
       "      <td>-1.000000</td>\n",
       "      <td>...</td>\n",
       "      <td>-0.352941</td>\n",
       "      <td>-0.228758</td>\n",
       "      <td>-0.156863</td>\n",
       "      <td>-0.542484</td>\n",
       "      <td>-0.339869</td>\n",
       "      <td>-0.222222</td>\n",
       "      <td>-0.254902</td>\n",
       "      <td>-0.137255</td>\n",
       "      <td>-0.176471</td>\n",
       "      <td>-0.209150</td>\n",
       "    </tr>\n",
       "  </tbody>\n",
       "</table>\n",
       "<p>13000 rows × 43 columns</p>\n",
       "</div>\n",
       "    <div class=\"colab-df-buttons\">\n",
       "\n",
       "  <div class=\"colab-df-container\">\n",
       "    <button class=\"colab-df-convert\" onclick=\"convertToInteractive('df-e3d28ff5-9d2e-45d9-a6e4-2aa5f7da03cd')\"\n",
       "            title=\"Convert this dataframe to an interactive table.\"\n",
       "            style=\"display:none;\">\n",
       "\n",
       "  <svg xmlns=\"http://www.w3.org/2000/svg\" height=\"24px\" viewBox=\"0 -960 960 960\">\n",
       "    <path d=\"M120-120v-720h720v720H120Zm60-500h600v-160H180v160Zm220 220h160v-160H400v160Zm0 220h160v-160H400v160ZM180-400h160v-160H180v160Zm440 0h160v-160H620v160ZM180-180h160v-160H180v160Zm440 0h160v-160H620v160Z\"/>\n",
       "  </svg>\n",
       "    </button>\n",
       "\n",
       "  <style>\n",
       "    .colab-df-container {\n",
       "      display:flex;\n",
       "      gap: 12px;\n",
       "    }\n",
       "\n",
       "    .colab-df-convert {\n",
       "      background-color: #E8F0FE;\n",
       "      border: none;\n",
       "      border-radius: 50%;\n",
       "      cursor: pointer;\n",
       "      display: none;\n",
       "      fill: #1967D2;\n",
       "      height: 32px;\n",
       "      padding: 0 0 0 0;\n",
       "      width: 32px;\n",
       "    }\n",
       "\n",
       "    .colab-df-convert:hover {\n",
       "      background-color: #E2EBFA;\n",
       "      box-shadow: 0px 1px 2px rgba(60, 64, 67, 0.3), 0px 1px 3px 1px rgba(60, 64, 67, 0.15);\n",
       "      fill: #174EA6;\n",
       "    }\n",
       "\n",
       "    .colab-df-buttons div {\n",
       "      margin-bottom: 4px;\n",
       "    }\n",
       "\n",
       "    [theme=dark] .colab-df-convert {\n",
       "      background-color: #3B4455;\n",
       "      fill: #D2E3FC;\n",
       "    }\n",
       "\n",
       "    [theme=dark] .colab-df-convert:hover {\n",
       "      background-color: #434B5C;\n",
       "      box-shadow: 0px 1px 3px 1px rgba(0, 0, 0, 0.15);\n",
       "      filter: drop-shadow(0px 1px 2px rgba(0, 0, 0, 0.3));\n",
       "      fill: #FFFFFF;\n",
       "    }\n",
       "  </style>\n",
       "\n",
       "    <script>\n",
       "      const buttonEl =\n",
       "        document.querySelector('#df-e3d28ff5-9d2e-45d9-a6e4-2aa5f7da03cd button.colab-df-convert');\n",
       "      buttonEl.style.display =\n",
       "        google.colab.kernel.accessAllowed ? 'block' : 'none';\n",
       "\n",
       "      async function convertToInteractive(key) {\n",
       "        const element = document.querySelector('#df-e3d28ff5-9d2e-45d9-a6e4-2aa5f7da03cd');\n",
       "        const dataTable =\n",
       "          await google.colab.kernel.invokeFunction('convertToInteractive',\n",
       "                                                    [key], {});\n",
       "        if (!dataTable) return;\n",
       "\n",
       "        const docLinkHtml = 'Like what you see? Visit the ' +\n",
       "          '<a target=\"_blank\" href=https://colab.research.google.com/notebooks/data_table.ipynb>data table notebook</a>'\n",
       "          + ' to learn more about interactive tables.';\n",
       "        element.innerHTML = '';\n",
       "        dataTable['output_type'] = 'display_data';\n",
       "        await google.colab.output.renderOutput(dataTable, element);\n",
       "        const docLink = document.createElement('div');\n",
       "        docLink.innerHTML = docLinkHtml;\n",
       "        element.appendChild(docLink);\n",
       "      }\n",
       "    </script>\n",
       "  </div>\n",
       "\n",
       "\n",
       "<div id=\"df-a95afdf1-7d51-4390-85c0-79305ec94342\">\n",
       "  <button class=\"colab-df-quickchart\" onclick=\"quickchart('df-a95afdf1-7d51-4390-85c0-79305ec94342')\"\n",
       "            title=\"Suggest charts\"\n",
       "            style=\"display:none;\">\n",
       "\n",
       "<svg xmlns=\"http://www.w3.org/2000/svg\" height=\"24px\"viewBox=\"0 0 24 24\"\n",
       "     width=\"24px\">\n",
       "    <g>\n",
       "        <path d=\"M19 3H5c-1.1 0-2 .9-2 2v14c0 1.1.9 2 2 2h14c1.1 0 2-.9 2-2V5c0-1.1-.9-2-2-2zM9 17H7v-7h2v7zm4 0h-2V7h2v10zm4 0h-2v-4h2v4z\"/>\n",
       "    </g>\n",
       "</svg>\n",
       "  </button>\n",
       "\n",
       "<style>\n",
       "  .colab-df-quickchart {\n",
       "      --bg-color: #E8F0FE;\n",
       "      --fill-color: #1967D2;\n",
       "      --hover-bg-color: #E2EBFA;\n",
       "      --hover-fill-color: #174EA6;\n",
       "      --disabled-fill-color: #AAA;\n",
       "      --disabled-bg-color: #DDD;\n",
       "  }\n",
       "\n",
       "  [theme=dark] .colab-df-quickchart {\n",
       "      --bg-color: #3B4455;\n",
       "      --fill-color: #D2E3FC;\n",
       "      --hover-bg-color: #434B5C;\n",
       "      --hover-fill-color: #FFFFFF;\n",
       "      --disabled-bg-color: #3B4455;\n",
       "      --disabled-fill-color: #666;\n",
       "  }\n",
       "\n",
       "  .colab-df-quickchart {\n",
       "    background-color: var(--bg-color);\n",
       "    border: none;\n",
       "    border-radius: 50%;\n",
       "    cursor: pointer;\n",
       "    display: none;\n",
       "    fill: var(--fill-color);\n",
       "    height: 32px;\n",
       "    padding: 0;\n",
       "    width: 32px;\n",
       "  }\n",
       "\n",
       "  .colab-df-quickchart:hover {\n",
       "    background-color: var(--hover-bg-color);\n",
       "    box-shadow: 0 1px 2px rgba(60, 64, 67, 0.3), 0 1px 3px 1px rgba(60, 64, 67, 0.15);\n",
       "    fill: var(--button-hover-fill-color);\n",
       "  }\n",
       "\n",
       "  .colab-df-quickchart-complete:disabled,\n",
       "  .colab-df-quickchart-complete:disabled:hover {\n",
       "    background-color: var(--disabled-bg-color);\n",
       "    fill: var(--disabled-fill-color);\n",
       "    box-shadow: none;\n",
       "  }\n",
       "\n",
       "  .colab-df-spinner {\n",
       "    border: 2px solid var(--fill-color);\n",
       "    border-color: transparent;\n",
       "    border-bottom-color: var(--fill-color);\n",
       "    animation:\n",
       "      spin 1s steps(1) infinite;\n",
       "  }\n",
       "\n",
       "  @keyframes spin {\n",
       "    0% {\n",
       "      border-color: transparent;\n",
       "      border-bottom-color: var(--fill-color);\n",
       "      border-left-color: var(--fill-color);\n",
       "    }\n",
       "    20% {\n",
       "      border-color: transparent;\n",
       "      border-left-color: var(--fill-color);\n",
       "      border-top-color: var(--fill-color);\n",
       "    }\n",
       "    30% {\n",
       "      border-color: transparent;\n",
       "      border-left-color: var(--fill-color);\n",
       "      border-top-color: var(--fill-color);\n",
       "      border-right-color: var(--fill-color);\n",
       "    }\n",
       "    40% {\n",
       "      border-color: transparent;\n",
       "      border-right-color: var(--fill-color);\n",
       "      border-top-color: var(--fill-color);\n",
       "    }\n",
       "    60% {\n",
       "      border-color: transparent;\n",
       "      border-right-color: var(--fill-color);\n",
       "    }\n",
       "    80% {\n",
       "      border-color: transparent;\n",
       "      border-right-color: var(--fill-color);\n",
       "      border-bottom-color: var(--fill-color);\n",
       "    }\n",
       "    90% {\n",
       "      border-color: transparent;\n",
       "      border-bottom-color: var(--fill-color);\n",
       "    }\n",
       "  }\n",
       "</style>\n",
       "\n",
       "  <script>\n",
       "    async function quickchart(key) {\n",
       "      const quickchartButtonEl =\n",
       "        document.querySelector('#' + key + ' button');\n",
       "      quickchartButtonEl.disabled = true;  // To prevent multiple clicks.\n",
       "      quickchartButtonEl.classList.add('colab-df-spinner');\n",
       "      try {\n",
       "        const charts = await google.colab.kernel.invokeFunction(\n",
       "            'suggestCharts', [key], {});\n",
       "      } catch (error) {\n",
       "        console.error('Error during call to suggestCharts:', error);\n",
       "      }\n",
       "      quickchartButtonEl.classList.remove('colab-df-spinner');\n",
       "      quickchartButtonEl.classList.add('colab-df-quickchart-complete');\n",
       "    }\n",
       "    (() => {\n",
       "      let quickchartButtonEl =\n",
       "        document.querySelector('#df-a95afdf1-7d51-4390-85c0-79305ec94342 button');\n",
       "      quickchartButtonEl.style.display =\n",
       "        google.colab.kernel.accessAllowed ? 'block' : 'none';\n",
       "    })();\n",
       "  </script>\n",
       "</div>\n",
       "\n",
       "  <div id=\"id_b552bccb-a69f-480b-877a-512fbcae5541\">\n",
       "    <style>\n",
       "      .colab-df-generate {\n",
       "        background-color: #E8F0FE;\n",
       "        border: none;\n",
       "        border-radius: 50%;\n",
       "        cursor: pointer;\n",
       "        display: none;\n",
       "        fill: #1967D2;\n",
       "        height: 32px;\n",
       "        padding: 0 0 0 0;\n",
       "        width: 32px;\n",
       "      }\n",
       "\n",
       "      .colab-df-generate:hover {\n",
       "        background-color: #E2EBFA;\n",
       "        box-shadow: 0px 1px 2px rgba(60, 64, 67, 0.3), 0px 1px 3px 1px rgba(60, 64, 67, 0.15);\n",
       "        fill: #174EA6;\n",
       "      }\n",
       "\n",
       "      [theme=dark] .colab-df-generate {\n",
       "        background-color: #3B4455;\n",
       "        fill: #D2E3FC;\n",
       "      }\n",
       "\n",
       "      [theme=dark] .colab-df-generate:hover {\n",
       "        background-color: #434B5C;\n",
       "        box-shadow: 0px 1px 3px 1px rgba(0, 0, 0, 0.15);\n",
       "        filter: drop-shadow(0px 1px 2px rgba(0, 0, 0, 0.3));\n",
       "        fill: #FFFFFF;\n",
       "      }\n",
       "    </style>\n",
       "    <button class=\"colab-df-generate\" onclick=\"generateWithVariable('df')\"\n",
       "            title=\"Generate code using this dataframe.\"\n",
       "            style=\"display:none;\">\n",
       "\n",
       "  <svg xmlns=\"http://www.w3.org/2000/svg\" height=\"24px\"viewBox=\"0 0 24 24\"\n",
       "       width=\"24px\">\n",
       "    <path d=\"M7,19H8.4L18.45,9,17,7.55,7,17.6ZM5,21V16.75L18.45,3.32a2,2,0,0,1,2.83,0l1.4,1.43a1.91,1.91,0,0,1,.58,1.4,1.91,1.91,0,0,1-.58,1.4L9.25,21ZM18.45,9,17,7.55Zm-12,3A5.31,5.31,0,0,0,4.9,8.1,5.31,5.31,0,0,0,1,6.5,5.31,5.31,0,0,0,4.9,4.9,5.31,5.31,0,0,0,6.5,1,5.31,5.31,0,0,0,8.1,4.9,5.31,5.31,0,0,0,12,6.5,5.46,5.46,0,0,0,6.5,12Z\"/>\n",
       "  </svg>\n",
       "    </button>\n",
       "    <script>\n",
       "      (() => {\n",
       "      const buttonEl =\n",
       "        document.querySelector('#id_b552bccb-a69f-480b-877a-512fbcae5541 button.colab-df-generate');\n",
       "      buttonEl.style.display =\n",
       "        google.colab.kernel.accessAllowed ? 'block' : 'none';\n",
       "\n",
       "      buttonEl.onclick = () => {\n",
       "        google.colab.notebook.generateWithVariable('df');\n",
       "      }\n",
       "      })();\n",
       "    </script>\n",
       "  </div>\n",
       "\n",
       "    </div>\n",
       "  </div>\n"
      ],
      "application/vnd.google.colaboratory.intrinsic+json": {
       "type": "dataframe",
       "variable_name": "df"
      }
     },
     "metadata": {},
     "execution_count": 42
    }
   ]
  },
  {
   "cell_type": "markdown",
   "metadata": {
    "id": "FNP6aqzc9hE5"
   },
   "source": [
    "# Convert to model for Tensorflow-Lite"
   ]
  },
  {
   "cell_type": "code",
   "execution_count": null,
   "metadata": {
    "id": "CyI02PFhnihX",
    "colab": {
     "base_uri": "https://localhost:8080/"
    },
    "outputId": "665db55c-7837-4dee-9799-a37512e906f0"
   },
   "outputs": [
    {
     "output_type": "stream",
     "name": "stderr",
     "text": [
      "/usr/local/lib/python3.10/dist-packages/keras/src/engine/training.py:3103: UserWarning: You are saving your model as an HDF5 file via `model.save()`. This file format is considered legacy. We recommend using instead the native Keras format, e.g. `model.save('my_model.keras')`.\n",
      "  saving_api.save_model(\n"
     ]
    }
   ],
   "source": [
    "# Save as a model dedicated to inference\n",
    "model.save(model_save_path, include_optimizer=False)"
   ]
  },
  {
   "cell_type": "code",
   "execution_count": null,
   "metadata": {
    "colab": {
     "base_uri": "https://localhost:8080/"
    },
    "id": "zRfuK8Y59hE6",
    "outputId": "ea465154-6c66-4ce0-c9c5-00d6f2754df5"
   },
   "outputs": [
    {
     "output_type": "execute_result",
     "data": {
      "text/plain": [
       "6616"
      ]
     },
     "metadata": {},
     "execution_count": 44
    }
   ],
   "source": [
    "# Transform model (quantization)\n",
    "\n",
    "converter = tf.lite.TFLiteConverter.from_keras_model(model)\n",
    "converter.optimizations = [tf.lite.Optimize.DEFAULT]\n",
    "tflite_quantized_model = converter.convert()\n",
    "\n",
    "open(tflite_save_path, 'wb').write(tflite_quantized_model)\n",
    "\n"
   ]
  },
  {
   "cell_type": "markdown",
   "metadata": {
    "id": "CHBPBXdx9hE6"
   },
   "source": [
    "# Inference test"
   ]
  },
  {
   "cell_type": "code",
   "execution_count": null,
   "metadata": {
    "id": "mGAzLocO9hE7"
   },
   "outputs": [],
   "source": [
    "interpreter = tf.lite.Interpreter(model_path=tflite_save_path)\n",
    "interpreter.allocate_tensors()"
   ]
  },
  {
   "cell_type": "code",
   "execution_count": null,
   "metadata": {
    "id": "oQuDK8YS9hE7"
   },
   "outputs": [],
   "source": [
    "# Get I / O tensor\n",
    "input_details = interpreter.get_input_details()\n",
    "output_details = interpreter.get_output_details()"
   ]
  },
  {
   "cell_type": "code",
   "execution_count": null,
   "metadata": {
    "id": "2_ixAf_l9hE7"
   },
   "outputs": [],
   "source": [
    "interpreter.set_tensor(input_details[0]['index'], np.array([X_test[0]]))"
   ]
  },
  {
   "cell_type": "code",
   "execution_count": null,
   "metadata": {
    "colab": {
     "base_uri": "https://localhost:8080/"
    },
    "id": "s4FoAnuc9hE7",
    "outputId": "5bcb70ef-2901-4fe0-bb9b-6592fa364f00",
    "scrolled": true
   },
   "outputs": [
    {
     "output_type": "stream",
     "name": "stdout",
     "text": [
      "CPU times: user 215 µs, sys: 0 ns, total: 215 µs\n",
      "Wall time: 165 µs\n"
     ]
    }
   ],
   "source": [
    "%%time\n",
    "# Inference implementation\n",
    "interpreter.invoke()\n",
    "tflite_results = interpreter.get_tensor(output_details[0]['index'])"
   ]
  },
  {
   "cell_type": "code",
   "execution_count": null,
   "metadata": {
    "colab": {
     "base_uri": "https://localhost:8080/"
    },
    "id": "vONjp19J9hE8",
    "outputId": "b9f78521-3839-4876-9742-dcedc2845ccf"
   },
   "outputs": [
    {
     "output_type": "stream",
     "name": "stdout",
     "text": [
      "[0.93274254 0.02095269 0.02910397 0.00515648 0.01204431]\n",
      "0\n"
     ]
    }
   ],
   "source": [
    "print(np.squeeze(tflite_results))\n",
    "print(np.argmax(np.squeeze(tflite_results)))"
   ]
  }
 ],
 "metadata": {
  "accelerator": "GPU",
  "colab": {
   "provenance": []
  },
  "kernelspec": {
   "display_name": "Python 3 (ipykernel)",
   "language": "python",
   "name": "python3"
  },
  "language_info": {
   "codemirror_mode": {
    "name": "ipython",
    "version": 3
   },
   "file_extension": ".py",
   "mimetype": "text/x-python",
   "name": "python",
   "nbconvert_exporter": "python",
   "pygments_lexer": "ipython3",
   "version": "3.10.11"
  }
 },
 "nbformat": 4,
 "nbformat_minor": 0
}
